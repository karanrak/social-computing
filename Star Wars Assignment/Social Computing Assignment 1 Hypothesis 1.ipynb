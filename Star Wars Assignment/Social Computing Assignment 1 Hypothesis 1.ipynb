{
 "cells": [
  {
   "cell_type": "code",
   "execution_count": 1,
   "metadata": {},
   "outputs": [],
   "source": [
    "import networkx as nx\n",
    "import json\n",
    "import numpy as np\n",
    "import matplotlib.pyplot as plt\n",
    "import statistics "
   ]
  },
  {
   "cell_type": "code",
   "execution_count": 2,
   "metadata": {},
   "outputs": [
    {
     "name": "stdout",
     "output_type": "stream",
     "text": [
      "{'0': 'R2-D2', '1': 'CHEWBACCA', '2': 'BB-8', '3': 'QUI-GON', '4': 'NUTE GUNRAY', '5': 'PK-4', '6': 'TC-14', '7': 'OBI-WAN', '8': 'DOFINE', '9': 'RUNE', '10': 'TEY HOW', '11': 'EMPEROR', '12': 'CAPTAIN PANAKA', '13': 'SIO BIBBLE', '14': 'JAR JAR', '15': 'TARPALS', '16': 'BOSS NASS', '17': 'PADME', '18': 'RIC OLIE', '19': 'WATTO', '20': 'ANAKIN', '21': 'SEBULBA', '22': 'JIRA', '23': 'SHMI', '24': 'C-3PO', '25': 'DARTH MAUL', '26': 'KITSTER', '27': 'WALD', '28': 'FODE/BEED', '29': 'JABBA', '30': 'GREEDO', '31': 'VALORUM', '32': 'MACE WINDU', '33': 'KI-ADI-MUNDI', '34': 'YODA', '35': 'RABE', '36': 'BAIL ORGANA', '37': 'GENERAL CEEL', '38': 'BRAVO TWO', '39': 'BRAVO THREE', '40': 'CAPTAIN TYPHO', '41': 'SENATOR ASK AAK', '42': 'ORN FREE TAA', '43': 'SOLA', '44': 'JOBAL', '45': 'RUWEE', '46': 'TAUN WE', '47': 'LAMA SU', '48': 'BOBA FETT', '49': 'JANGO FETT', '50': 'OWEN', '51': 'BERU', '52': 'CLIEGG', '53': 'COUNT DOOKU', '54': 'SUN RIT', '55': 'POGGLE', '56': 'PLO KOON', '57': 'ODD BALL', '58': 'GENERAL GRIEVOUS', '59': 'FANG ZAR', '60': 'MON MOTHMA', '61': 'GIDDEAN DANU', '62': 'CLONE COMMANDER GREE', '63': 'CLONE COMMANDER CODY', '64': 'TION MEDON', '65': 'CAPTAIN ANTILLES', '66': 'DARTH VADER', '67': 'LUKE', '68': 'CAMIE', '69': 'BIGGS', '70': 'LEIA', '71': 'MOTTI', '72': 'TARKIN', '73': 'HAN', '74': 'DODONNA', '75': 'GOLD LEADER', '76': 'WEDGE', '77': 'RED LEADER', '78': 'RED TEN', '79': 'GOLD FIVE', '80': 'RIEEKAN', '81': 'DERLIN', '82': 'ZEV', '83': 'PIETT', '84': 'OZZEL', '85': 'DACK', '86': 'JANSON', '87': 'NEEDA', '88': 'LANDO', '89': 'JERJERROD', '90': 'BIB FORTUNA', '91': 'BOUSHH', '92': 'ADMIRAL ACKBAR', '93': 'LOR SAN TEKKA', '94': 'POE', '95': 'KYLO REN', '96': 'CAPTAIN PHASMA', '97': 'FINN', '98': 'UNKAR PLUTT', '99': 'REY', '100': 'GENERAL HUX', '101': 'LIEUTENANT MITAKA', '102': 'BALA-TIK', '103': 'SNOKE', '104': 'MAZ', '105': 'SNAP', '106': 'ADMIRAL STATURA', '107': 'YOLO ZIFF', '108': 'COLONEL DATOO', '109': 'ELLO ASTY', '110': 'JESS', '111': 'NIV LEK'}\n"
     ]
    }
   ],
   "source": [
    "episodeno=7\n",
    "#with open('star_wars_dataset/starwars-episode-%i-interactions-allCharacters.json' %episodeno) as f:\n",
    "with open('star_wars_dataset/starwars-full-interactions-allCharacters.json') as f:\n",
    "        js_graph1 = json.load(f)\n",
    "js_graph = nx.json_graph.node_link_graph(js_graph1)\n",
    "#nx.write_graphml(js_graph, \"./episode_%i.graphml\" %episodeno)\n",
    "nx.write_graphml(js_graph, \"./all_episodes.graphml\")\n",
    "cy = nx.json_graph.cytoscape_data(js_graph)\n",
    "idtoname = {}\n",
    "for i in cy[\"elements\"][\"nodes\"]:\n",
    "    idtoname[i['data']['id']]=  i['data']['name']\n",
    "print(idtoname)"
   ]
  },
  {
   "cell_type": "code",
   "execution_count": 3,
   "metadata": {},
   "outputs": [
    {
     "name": "stdout",
     "output_type": "stream",
     "text": [
      "2.0\n",
      "EMPEROR\n",
      "NUTE GUNRAY\n"
     ]
    }
   ],
   "source": [
    "#list_neighbors=js_graph.neighbors(11)\n",
    "charno = 25\n",
    "sums = statistics.median([i[2] for i in list(js_graph.edges(charno,'value'))])\n",
    "print(sums)\n",
    "nodes = [charno]\n",
    "edge_values = []\n",
    "closeconnections = []\n",
    "for i in list(js_graph.edges(charno,'value')):\n",
    "    if i[2]>sums:\n",
    "        closeconnections.append(idtoname[str(i[1])])\n",
    "        nodes.append(i[1])\n",
    "        edge_values.append(0.5*(i[2]))\n",
    "        print(idtoname[str(i[1])])"
   ]
  },
  {
   "cell_type": "code",
   "execution_count": 4,
   "metadata": {},
   "outputs": [
    {
     "data": {
      "text/plain": [
       "MultiEdgeDataView([(25, 11), (25, 4), (11, 4)])"
      ]
     },
     "execution_count": 4,
     "metadata": {},
     "output_type": "execute_result"
    }
   ],
   "source": [
    "sub = js_graph.subgraph(nodes).copy()\n",
    "sub.edges()"
   ]
  },
  {
   "cell_type": "code",
   "execution_count": 5,
   "metadata": {},
   "outputs": [
    {
     "data": {
      "text/plain": [
       "[(11, 4)]"
      ]
     },
     "execution_count": 5,
     "metadata": {},
     "output_type": "execute_result"
    }
   ],
   "source": [
    "remove = []\n",
    "for e in sub.edges():\n",
    "    if e[0] is not charno and e[1] is not charno:\n",
    "        remove.append(e)\n",
    "remove"
   ]
  },
  {
   "cell_type": "code",
   "execution_count": 6,
   "metadata": {},
   "outputs": [
    {
     "data": {
      "text/plain": [
       "MultiEdgeDataView([(25, 11), (25, 4)])"
      ]
     },
     "execution_count": 6,
     "metadata": {},
     "output_type": "execute_result"
    }
   ],
   "source": [
    "sub.remove_edges_from(remove)\n",
    "sub.edges()"
   ]
  },
  {
   "cell_type": "code",
   "execution_count": 7,
   "metadata": {},
   "outputs": [
    {
     "name": "stderr",
     "output_type": "stream",
     "text": [
      "C:\\Users\\karan\\Anaconda3\\lib\\site-packages\\networkx\\drawing\\nx_pylab.py:579: MatplotlibDeprecationWarning: \n",
      "The iterable function was deprecated in Matplotlib 3.1 and will be removed in 3.3. Use np.iterable instead.\n",
      "  if not cb.iterable(width):\n"
     ]
    },
    {
     "data": {
      "image/png": "[encoded data removed]",
      "text/plain": [
       "<Figure size 504x504 with 1 Axes>"
      ]
     },
     "metadata": {},
     "output_type": "display_data"
    }
   ],
   "source": [
    "labels = nx.get_node_attributes(sub, 'name') \n",
    "colors = nx.get_node_attributes(sub, 'colour')\n",
    "#nx.draw(sub)\n",
    "plt.figure(figsize=(7,7))\n",
    "nx.draw(sub,labels=labels,node_color = list(colors.values()), width = edge_values,  node_size = 5000)\n",
    "plt.savefig(\"%s_network\" %idtoname[str(charno)])"
   ]
  },
  {
   "cell_type": "code",
   "execution_count": null,
   "metadata": {},
   "outputs": [],
   "source": []
  },
  {
   "cell_type": "code",
   "execution_count": null,
   "metadata": {},
   "outputs": [],
   "source": []
  }
 ],
 "metadata": {
  "kernelspec": {
   "display_name": "Python 3",
   "language": "python",
   "name": "python3"
  },
  "language_info": {
   "codemirror_mode": {
    "name": "ipython",
    "version": 3
   },
   "file_extension": ".py",
   "mimetype": "text/x-python",
   "name": "python",
   "nbconvert_exporter": "python",
   "pygments_lexer": "ipython3",
   "version": "3.7.3"
  }
 },
 "nbformat": 4,
 "nbformat_minor": 2
}
